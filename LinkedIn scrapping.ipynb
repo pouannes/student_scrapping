{
 "cells": [
  {
   "cell_type": "code",
   "execution_count": 21,
   "metadata": {},
   "outputs": [],
   "source": [
    "from selenium import webdriver\n",
    "from selenium.webdriver.common.keys import Keys\n",
    "from time import sleep\n",
    "from parsel import Selector"
   ]
  },
  {
   "cell_type": "code",
   "execution_count": 24,
   "metadata": {},
   "outputs": [],
   "source": [
    "# search query \n",
    "param_search_query = 'site:linkedin.com/in/ AND \"python developer\" AND \"London\"'\n",
    "\n",
    "\n",
    "# file were scraped profile information will be stored  \n",
    "param_file_name = 'results_file.csv'\n",
    "\n",
    "# login credentials\n",
    "param_linkedin_username = 'email@gmail.com'\n",
    "param_linkedin_password = 'xxxxxx'"
   ]
  },
  {
   "cell_type": "code",
   "execution_count": null,
   "metadata": {},
   "outputs": [],
   "source": [
    "# defining new variable passing two parameters\n",
    "writer = csv.writer(open(parameters.file_name, 'wb'))\n",
    "\n",
    "# writerow() method to the write to the file object\n",
    "writer.writerow(['Name','Job Title','Company','College', 'Location','URL'])"
   ]
  },
  {
   "cell_type": "markdown",
   "metadata": {},
   "source": [
    "https://sites.google.com/a/chromium.org/chromedriver/home"
   ]
  },
  {
   "cell_type": "code",
   "execution_count": 74,
   "metadata": {},
   "outputs": [],
   "source": [
    "driver = webdriver.Chrome('./chromedriver')"
   ]
  },
  {
   "cell_type": "code",
   "execution_count": 6,
   "metadata": {},
   "outputs": [],
   "source": [
    "driver.get('https://linkedin.com')"
   ]
  },
  {
   "cell_type": "code",
   "execution_count": 26,
   "metadata": {},
   "outputs": [],
   "source": [
    "driver.get('https://google.com')\n",
    "sleep(3)"
   ]
  },
  {
   "cell_type": "code",
   "execution_count": 27,
   "metadata": {},
   "outputs": [],
   "source": [
    "search_query = driver.find_element_by_name('q')\n",
    "search_query.send_keys(param_search_query)\n",
    "sleep(0.5)"
   ]
  },
  {
   "cell_type": "code",
   "execution_count": 28,
   "metadata": {},
   "outputs": [],
   "source": [
    "search_query.send_keys(Keys.RETURN)\n",
    "sleep(3)"
   ]
  },
  {
   "cell_type": "code",
   "execution_count": 29,
   "metadata": {},
   "outputs": [],
   "source": [
    "linkedin_urls = driver.find_elements_by_class_name('iUh30')\n",
    "\n",
    "linkedin_urls = [url.text for url in linkedin_urls]\n",
    "sleep(0.5)"
   ]
  },
  {
   "cell_type": "code",
   "execution_count": 30,
   "metadata": {},
   "outputs": [
    {
     "data": {
      "text/plain": [
       "'https://uk.linkedin.com/in/pauljgarner'"
      ]
     },
     "execution_count": 30,
     "metadata": {},
     "output_type": "execute_result"
    }
   ],
   "source": [
    "linkedin_urls[0]"
   ]
  },
  {
   "cell_type": "code",
   "execution_count": 90,
   "metadata": {},
   "outputs": [],
   "source": [
    "driver.get(\"https://uk.linkedin.com/in/scott-white-6a377a5a\")"
   ]
  },
  {
   "cell_type": "code",
   "execution_count": 91,
   "metadata": {},
   "outputs": [],
   "source": [
    "sel = Selector(text=driver.page_source)"
   ]
  },
  {
   "cell_type": "code",
   "execution_count": 101,
   "metadata": {},
   "outputs": [],
   "source": [
    "links = sel.xpath('//*[starts-with(@class, \"topcard-links__description\")]/text()')\n"
   ]
  },
  {
   "cell_type": "code",
   "execution_count": 105,
   "metadata": {},
   "outputs": [
    {
     "name": "stdout",
     "output_type": "stream",
     "text": [
      "\n",
      "\n",
      "Name: Blog\n",
      "Job Title: Freelance Python Developer at Depop\n",
      "Company: Depop\n",
      "College: None\n",
      "Location: London, United Kingdom\n",
      "URL: https://uk.linkedin.com/in/pauljgarner\n",
      "\n",
      "\n",
      "\n",
      "\n",
      "Name: Lukasz Szczesiak\n",
      "Job Title: Software Engineer / Stand-Up Comedian\n",
      "Company: Macquarie Group\n",
      "College: The University of Glasgow\n",
      "Location: London, Greater London, United Kingdom\n",
      "URL: https://uk.linkedin.com/in/szczesiaklukasz\n",
      "\n",
      "\n",
      "\n",
      "\n",
      "Name: University of Sussex\n",
      "Job Title: Python Developer / Django Developer at Rocksteady Games\n",
      "Company: Rocksteady Games\n",
      "College: University of Sussex\n",
      "Location: London, Greater London, United Kingdom\n",
      "URL: https://uk.linkedin.com/in/scott-white-6a377a5a\n",
      "\n",
      "\n",
      "\n",
      "\n",
      "Name: Rob Young\n",
      "Job Title: Senior Python Developer at Arts Alliance Media\n",
      "Company: Turner & Townsend\n",
      "College: Newcastle University\n",
      "Location: London, United Kingdom\n",
      "URL: https://uk.linkedin.com/in/robyoung101\n",
      "\n",
      "\n",
      "\n",
      "\n",
      "Name: Personal Website\n",
      "Job Title: Python Developer, PhD Computational Physics\n",
      "Company: Unmortgage\n",
      "College: Imperial College London\n",
      "Location: London, United Kingdom\n",
      "URL: https://uk.linkedin.com/in/chris-davie-a3754b7a\n",
      "\n",
      "\n",
      "\n",
      "\n",
      "Name: Github\n",
      "Job Title: Python Developer\n",
      "Company: Killik & Co\n",
      "College: None\n",
      "Location: London, United Kingdom\n",
      "URL: https://uk.linkedin.com/in/christargett\n",
      "\n",
      "\n",
      "\n",
      "\n",
      "Name: University of Leeds\n",
      "Job Title: Python Developer at The Fusion Labs\n",
      "Company: The Fusion Labs\n",
      "College: University of Leeds\n",
      "Location: London, Greater London, United Kingdom\n",
      "URL: https://uk.linkedin.com/in/andreycizov\n",
      "\n",
      "\n"
     ]
    },
    {
     "ename": "IndexError",
     "evalue": "list index out of range",
     "output_type": "error",
     "traceback": [
      "\u001b[0;31m---------------------------------------------------------------------------\u001b[0m",
      "\u001b[0;31mIndexError\u001b[0m                                Traceback (most recent call last)",
      "\u001b[0;32m<ipython-input-105-3f079e3dc1fd>\u001b[0m in \u001b[0;36m<module>\u001b[0;34m\u001b[0m\n\u001b[1;32m     25\u001b[0m \u001b[0;34m\u001b[0m\u001b[0m\n\u001b[1;32m     26\u001b[0m     \u001b[0;31m# xpath to extract the text from the class containing the company\u001b[0m\u001b[0;34m\u001b[0m\u001b[0;34m\u001b[0m\u001b[0;34m\u001b[0m\u001b[0m\n\u001b[0;32m---> 27\u001b[0;31m     \u001b[0mcompany\u001b[0m \u001b[0;34m=\u001b[0m \u001b[0msel\u001b[0m\u001b[0;34m.\u001b[0m\u001b[0mxpath\u001b[0m\u001b[0;34m(\u001b[0m\u001b[0;34m'//*[starts-with(@class, \"topcard-links__description\")]/text()'\u001b[0m\u001b[0;34m)\u001b[0m\u001b[0;34m[\u001b[0m\u001b[0;36m0\u001b[0m\u001b[0;34m]\u001b[0m\u001b[0;34m.\u001b[0m\u001b[0mget\u001b[0m\u001b[0;34m(\u001b[0m\u001b[0;34m)\u001b[0m\u001b[0;34m\u001b[0m\u001b[0;34m\u001b[0m\u001b[0m\n\u001b[0m\u001b[1;32m     28\u001b[0m \u001b[0;34m\u001b[0m\u001b[0m\n\u001b[1;32m     29\u001b[0m     \u001b[0;32mif\u001b[0m \u001b[0mcompany\u001b[0m\u001b[0;34m:\u001b[0m\u001b[0;34m\u001b[0m\u001b[0;34m\u001b[0m\u001b[0m\n",
      "\u001b[0;32m/anaconda3/lib/python3.7/site-packages/parsel/selector.py\u001b[0m in \u001b[0;36m__getitem__\u001b[0;34m(self, pos)\u001b[0m\n\u001b[1;32m     59\u001b[0m \u001b[0;34m\u001b[0m\u001b[0m\n\u001b[1;32m     60\u001b[0m     \u001b[0;32mdef\u001b[0m \u001b[0m__getitem__\u001b[0m\u001b[0;34m(\u001b[0m\u001b[0mself\u001b[0m\u001b[0;34m,\u001b[0m \u001b[0mpos\u001b[0m\u001b[0;34m)\u001b[0m\u001b[0;34m:\u001b[0m\u001b[0;34m\u001b[0m\u001b[0;34m\u001b[0m\u001b[0m\n\u001b[0;32m---> 61\u001b[0;31m         \u001b[0mo\u001b[0m \u001b[0;34m=\u001b[0m \u001b[0msuper\u001b[0m\u001b[0;34m(\u001b[0m\u001b[0mSelectorList\u001b[0m\u001b[0;34m,\u001b[0m \u001b[0mself\u001b[0m\u001b[0;34m)\u001b[0m\u001b[0;34m.\u001b[0m\u001b[0m__getitem__\u001b[0m\u001b[0;34m(\u001b[0m\u001b[0mpos\u001b[0m\u001b[0;34m)\u001b[0m\u001b[0;34m\u001b[0m\u001b[0;34m\u001b[0m\u001b[0m\n\u001b[0m\u001b[1;32m     62\u001b[0m         \u001b[0;32mreturn\u001b[0m \u001b[0mself\u001b[0m\u001b[0;34m.\u001b[0m\u001b[0m__class__\u001b[0m\u001b[0;34m(\u001b[0m\u001b[0mo\u001b[0m\u001b[0;34m)\u001b[0m \u001b[0;32mif\u001b[0m \u001b[0misinstance\u001b[0m\u001b[0;34m(\u001b[0m\u001b[0mpos\u001b[0m\u001b[0;34m,\u001b[0m \u001b[0mslice\u001b[0m\u001b[0;34m)\u001b[0m \u001b[0;32melse\u001b[0m \u001b[0mo\u001b[0m\u001b[0;34m\u001b[0m\u001b[0;34m\u001b[0m\u001b[0m\n\u001b[1;32m     63\u001b[0m \u001b[0;34m\u001b[0m\u001b[0m\n",
      "\u001b[0;31mIndexError\u001b[0m: list index out of range"
     ]
    }
   ],
   "source": [
    "for linkedin_url in linkedin_urls:\n",
    "\n",
    "    # get the profile URL \n",
    "    driver.get(linkedin_url)\n",
    "\n",
    "    # add a 5 second pause loading each URL\n",
    "    sleep(5)\n",
    "\n",
    "    # assigning the source code for the webpage to variable sel\n",
    "    sel = Selector(text=driver.page_source) \n",
    "    \n",
    "    # xpath to extract the text from the class containing the name\n",
    "    name = sel.xpath('//*[starts-with(@class, \"topcard__name\")]/text()').extract_first()\n",
    "\n",
    "    if name:\n",
    "        name = name.strip()\n",
    "\n",
    "\n",
    "    # xpath to extract the text from the class containing the job title\n",
    "    job_title = sel.xpath('//*[starts-with(@class, \"topcard__headline\")]/text()').extract_first()\n",
    "\n",
    "    if job_title:\n",
    "        job_title = job_title.strip()\n",
    "\n",
    "\n",
    "    # xpath to extract the text from the class containing the company\n",
    "    company = sel.xpath('//*[starts-with(@class, \"topcard-links__description\")]/text()')[0].get()\n",
    "\n",
    "    if company:\n",
    "        company = company.strip()\n",
    "\n",
    "\n",
    "    # xpath to extract the text from the class containing the college\n",
    "    college = sel.xpath('//*[starts-with(@data-tracking-control-name, \"public_profile_topcard_school\")]/span/text()').get()\n",
    "    if college == None:\n",
    "        links = sel.xpath('//*[starts-with(@class, \"topcard-links__description\")]/text()')\n",
    "        for link in links:\n",
    "            name = link.get()\n",
    "            if (\"University\" in name) or (\"university\" in name) or (\"college\" in name) or (\"College\" in name):\n",
    "                college = name\n",
    "    if college == None:\n",
    "        college = \"Not Found\"\n",
    "    if college:\n",
    "        college = college.strip()\n",
    "\n",
    "\n",
    "    # xpath to extract the text from the class containing the location\n",
    "    location = sel.xpath('//*[starts-with(@class, \"topcard__location\")]/text()').extract_first()\n",
    "\n",
    "    if location:\n",
    "        location = location.strip()\n",
    "\n",
    "\n",
    "    linkedin_url = driver.current_url\n",
    "    \n",
    "    print('\\n')\n",
    "    print('Name: ' + str(name))\n",
    "    print('Job Title: ' + str(job_title))\n",
    "    print('Company: ' + company)\n",
    "    print('College: ' + str(college))\n",
    "    print('Location: ' + location)\n",
    "    print('URL: ' + linkedin_url)\n",
    "    print('\\n')"
   ]
  },
  {
   "cell_type": "code",
   "execution_count": null,
   "metadata": {},
   "outputs": [],
   "source": []
  }
 ],
 "metadata": {
  "kernelspec": {
   "display_name": "Python 3",
   "language": "python",
   "name": "python3"
  },
  "language_info": {
   "codemirror_mode": {
    "name": "ipython",
    "version": 3
   },
   "file_extension": ".py",
   "mimetype": "text/x-python",
   "name": "python",
   "nbconvert_exporter": "python",
   "pygments_lexer": "ipython3",
   "version": "3.7.3"
  },
  "toc": {
   "base_numbering": 1,
   "nav_menu": {},
   "number_sections": true,
   "sideBar": true,
   "skip_h1_title": false,
   "title_cell": "Table of Contents",
   "title_sidebar": "Contents",
   "toc_cell": false,
   "toc_position": {},
   "toc_section_display": true,
   "toc_window_display": false
  }
 },
 "nbformat": 4,
 "nbformat_minor": 2
}
