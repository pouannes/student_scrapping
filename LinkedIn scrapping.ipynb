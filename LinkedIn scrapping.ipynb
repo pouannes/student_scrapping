{
 "cells": [
  {
   "cell_type": "markdown",
   "metadata": {},
   "source": [
    "# Import and setup"
   ]
  },
  {
   "cell_type": "code",
   "execution_count": 5,
   "metadata": {},
   "outputs": [],
   "source": [
    "from selenium import webdriver\n",
    "from selenium.webdriver.common.keys import Keys\n",
    "from time import sleep\n",
    "from parsel import Selector\n",
    "import csv"
   ]
  },
  {
   "cell_type": "code",
   "execution_count": 94,
   "metadata": {},
   "outputs": [],
   "source": [
    "# search query \n",
    "param_search_query = 'site:linkedin.com/in/ AND \"python developer\" AND \"London\"'\n",
    "\n",
    "param_titles = [\"Name\",\"Job Title\",\"Company\",\"College\", \"Location\",\"URL\"]\n",
    "\n",
    "# file were scraped profile information will be stored  \n",
    "param_file_name = 'results_file.csv'\n",
    "\n",
    "# login credentials\n",
    "param_linkedin_username = 'kabirupiti@simpleemail.info'\n",
    "param_linkedin_password = 'hahahaha'"
   ]
  },
  {
   "cell_type": "code",
   "execution_count": 7,
   "metadata": {},
   "outputs": [],
   "source": [
    "# function to ensure all key data fields have a value\n",
    "def validate_field(field):# if field is present pass\n",
    "    if field: return field\n",
    "# if field is not present print text \n",
    "    else:\n",
    "        field = 'No results'\n",
    "        return field"
   ]
  },
  {
   "cell_type": "code",
   "execution_count": 102,
   "metadata": {},
   "outputs": [],
   "source": [
    "def linkedin_login(driver):\n",
    "    \n",
    "    # driver.get method() will navigate to a page given by the URL address\n",
    "    driver.get('https://www.linkedin.com/login')\n",
    "    # locate email form by_class_name\n",
    "    username = driver.find_element_by_id('username')\n",
    "    # send_keys() to simulate key strokes\n",
    "    username.send_keys(param_linkedin_username)\n",
    "    # sleep for 0.5 seconds\n",
    "    sleep(0.5)\n",
    "    # locate password form by_class_name\n",
    "    password = driver.find_element_by_id('password')\n",
    "    # send_keys() to simulate key strokes\n",
    "    password.send_keys(param_linkedin_password)\n",
    "    sleep(0.5)\n",
    "    # locate submit button by_xpath\n",
    "    sign_in_button = driver.find_element_by_xpath('//*[@type=\"submit\"]')\n",
    "    # .click() to mimic button click\n",
    "    sign_in_button.click()"
   ]
  },
  {
   "cell_type": "code",
   "execution_count": 103,
   "metadata": {},
   "outputs": [],
   "source": [
    "driver = webdriver.Chrome('./chromedriver')\n",
    "sleep(4)\n",
    "linkedin_login(driver)"
   ]
  },
  {
   "cell_type": "code",
   "execution_count": 17,
   "metadata": {},
   "outputs": [],
   "source": [
    "with open(param_file_name, 'a', newline='', encoding='utf8') as writeFile:\n",
    "    writer = csv.writer(writeFile)\n",
    "    writer.writerow(param_titles)"
   ]
  },
  {
   "cell_type": "markdown",
   "metadata": {},
   "source": [
    "https://sites.google.com/a/chromium.org/chromedriver/home"
   ]
  },
  {
   "cell_type": "markdown",
   "metadata": {},
   "source": [
    "# Web scrapper"
   ]
  },
  {
   "cell_type": "code",
   "execution_count": 43,
   "metadata": {},
   "outputs": [],
   "source": [
    "driver = webdriver.Chrome('./chromedriver')\n",
    "\n",
    "driver.get('https://google.com')\n",
    "sleep(3)"
   ]
  },
  {
   "cell_type": "code",
   "execution_count": 68,
   "metadata": {},
   "outputs": [],
   "source": [
    "def search_google_linkedin(driver, query):\n",
    "    driver.get('https://google.com')\n",
    "    sleep(0.5)\n",
    "    search_query = driver.find_element_by_name('q')\n",
    "    search_query.send_keys(query)\n",
    "    sleep(0.5)\n",
    "\n",
    "    search_query.send_keys(Keys.RETURN)\n",
    "    sleep(0.5)\n",
    "\n",
    "    linkedin_urls = driver.find_elements_by_class_name('iUh30')\n",
    "\n",
    "    linkedin_urls = [url.text for url in linkedin_urls]\n",
    "    sleep(0.5)\n",
    "    try:\n",
    "        return linkedin_urls[0]\n",
    "    except:\n",
    "        return None"
   ]
  },
  {
   "cell_type": "code",
   "execution_count": 20,
   "metadata": {},
   "outputs": [],
   "source": [
    "linkedin_urls = search_google_linkedin(param_search_query)"
   ]
  },
  {
   "cell_type": "code",
   "execution_count": 45,
   "metadata": {
    "collapsed": true
   },
   "outputs": [
    {
     "data": {
      "text/plain": [
       "['https://uk.linkedin.com/in/pauljgarner',\n",
       " 'https://uk.linkedin.com/in/szczesiaklukasz',\n",
       " 'https://uk.linkedin.com/in/scott-white-6a377a5a',\n",
       " 'https://uk.linkedin.com/in/eastwoodalex',\n",
       " 'https://uk.linkedin.com/in/christargett',\n",
       " 'https://uk.linkedin.com/in/chris-davie-a3754b7a',\n",
       " 'https://uk.linkedin.com/in/bartoszdziendzik',\n",
       " 'https://uk.linkedin.com/in/robyoung101',\n",
       " 'https://uk.linkedin.com/in/mark-brady-3473a396',\n",
       " 'https://uk.linkedin.com/in/glenlavery']"
      ]
     },
     "execution_count": 45,
     "metadata": {},
     "output_type": "execute_result"
    }
   ],
   "source": [
    "linkedin_urls"
   ]
  },
  {
   "cell_type": "code",
   "execution_count": 9,
   "metadata": {},
   "outputs": [],
   "source": [
    "def get_linkedin_info(sel, path, is_company=False, is_college=False):\n",
    "    if is_company: info = sel.xpath(path)[0].get()\n",
    "    if is_college:\n",
    "        info = sel.xpath(path).get()\n",
    "        if info == None:\n",
    "            links = sel.xpath('//*[starts-with(@class, \"topcard-links__description\")]/text()')\n",
    "            for link in links:\n",
    "                card_name = link.get()\n",
    "                if (\"University\" in card_name) or (\"university\" in card_name) or \\\n",
    "                (\"college\" in card_name) or (\"College\" in card_name):\n",
    "                    info = card_name\n",
    "    else: info = sel.xpath(path).get()\n",
    "    if info:\n",
    "        info = info.strip()\n",
    "    return info"
   ]
  },
  {
   "cell_type": "code",
   "execution_count": 90,
   "metadata": {
    "code_folding": [],
    "scrolled": false
   },
   "outputs": [],
   "source": [
    "def scrap_linkedin_profile(driver, linkedin_urls, verbose=False):\n",
    "    with open(param_file_name, 'a', newline='', encoding='utf8') as writeFile:\n",
    "        writer = csv.writer(writeFile)\n",
    "        for linkedin_url in linkedin_urls:\n",
    "            # get the profile URL\n",
    "            if linkedin_url == None:\n",
    "                continue\n",
    "            driver.get(linkedin_url)\n",
    "            # add a 5 second pause loading each URL\n",
    "            sleep(1)\n",
    "            # assigning the source code for the webpage to variable sel\n",
    "            sel = Selector(text=driver.page_source) \n",
    "            annoyed = get_linkedin_info(sel, '//*[starts-with(@class, \"form-title\")]/text()')\n",
    "            print(f'annoyed is: {annoyed}')\n",
    "            if (annoyed is not None) and annoyed == \"Sign in to view profiles\":\n",
    "                print(\"rebooting the webdriver\")\n",
    "                driver.quit()\n",
    "                driver = webdriver.Chrome('./chromedriver')\n",
    "                sleep(3)\n",
    "                driver.get(linkedin_url)\n",
    "                print(rebooted)\n",
    "                sleep(1)\n",
    "                \n",
    "            # xpath to extract the text from the class containing the name                \n",
    "            name = get_linkedin_info(sel, '//*[starts-with(@class, \"topcard__name\")]/text()')\n",
    "            # xpath to extract the text from the class containing the job title\n",
    "            job_title = get_linkedin_info(sel, '//*[starts-with(@class, \"topcard__headline\")]/text()')\n",
    "            # xpath to extract the text from the class containing the company\n",
    "            company = get_linkedin_info(sel, '//*[starts-with(@class, \"topcard-links__description\")]/text()', is_company=True)\n",
    "            # xpath to extract the text from the class containing the college\n",
    "            college = get_linkedin_info(sel, '//*[starts-with(@data-tracking-control-name, \"public_profile_topcard_school\")]/span/text()', is_college=True)\n",
    "            # xpath to extract the text from the class containing the location\n",
    "            location = get_linkedin_info(sel, '//*[starts-with(@class, \"topcard__location\")]/text()')            \n",
    "            linkedin_url = driver.current_url\n",
    "\n",
    "            name = validate_field(name)\n",
    "            job_title = validate_field(job_title)\n",
    "            company = validate_field(company)\n",
    "            college = validate_field(college)\n",
    "            location = validate_field(location)\n",
    "            linkedin_url = validate_field(linkedin_url)\n",
    "            \n",
    "            if verbose:\n",
    "                print('\\n')\n",
    "                print('Name: ' + name)\n",
    "                print('Job Title: ' + job_title)\n",
    "                print('Company: ' + company)\n",
    "                print('College: ' + college)\n",
    "                print('Location: ' + location)\n",
    "                print('URL: ' + linkedin_url)\n",
    "\n",
    "            writer.writerow([name,\n",
    "                         job_title,\n",
    "                         company,\n",
    "                         college,\n",
    "                         location,\n",
    "                         linkedin_url])\n",
    "\n",
    "            if verbose: print(\"informations written to file\")"
   ]
  },
  {
   "cell_type": "code",
   "execution_count": 48,
   "metadata": {
    "collapsed": true
   },
   "outputs": [
    {
     "name": "stdout",
     "output_type": "stream",
     "text": [
      "\n",
      "\n",
      "Name: Paul Garner\n",
      "Job Title: Freelance Python Developer at Depop\n",
      "Company: Depop\n",
      "College: No results\n",
      "Location: London, United Kingdom\n",
      "URL: https://uk.linkedin.com/in/pauljgarner\n",
      "informations written to file\n",
      "\n",
      "\n",
      "Name: Lukasz Szczesiak\n",
      "Job Title: Software Engineer / Stand-Up Comedian\n",
      "Company: Macquarie Group\n",
      "College: The University of Glasgow\n",
      "Location: London, Greater London, United Kingdom\n",
      "URL: https://uk.linkedin.com/in/szczesiaklukasz\n",
      "informations written to file\n",
      "\n",
      "\n",
      "Name: Scott White\n",
      "Job Title: Python Developer / Django Developer at Rocksteady Games\n",
      "Company: Rocksteady Games\n",
      "College: University of Sussex\n",
      "Location: London, Greater London, United Kingdom\n",
      "URL: https://uk.linkedin.com/in/scott-white-6a377a5a\n",
      "informations written to file\n",
      "\n",
      "\n",
      "Name: Alex Eastwood\n",
      "Job Title: Python Developer at Firmstep\n",
      "Company: Firmstep\n",
      "College: UCL\n",
      "Location: London, United Kingdom\n",
      "URL: https://uk.linkedin.com/in/eastwoodalex\n",
      "informations written to file\n",
      "\n",
      "\n",
      "Name: Chris Targett\n",
      "Job Title: Python Developer\n",
      "Company: Killik & Co\n",
      "College: No results\n",
      "Location: London, United Kingdom\n",
      "URL: https://uk.linkedin.com/in/christargett\n",
      "informations written to file\n",
      "\n",
      "\n",
      "Name: Chris Davie\n",
      "Job Title: Python Developer, PhD Computational Physics\n",
      "Company: Unmortgage\n",
      "College: Imperial College London\n",
      "Location: London, United Kingdom\n",
      "URL: https://uk.linkedin.com/in/chris-davie-a3754b7a\n",
      "informations written to file\n",
      "\n",
      "\n",
      "Name: Bartosz Dziendzik\n",
      "Job Title: Python developer\n",
      "Company: iwoca\n",
      "College: Wyższa Szkoła Bankowa w Gdańsku\n",
      "Location: London, United Kingdom\n",
      "URL: https://uk.linkedin.com/in/bartoszdziendzik\n",
      "informations written to file\n",
      "\n",
      "\n",
      "Name: Rob Young\n",
      "Job Title: Senior Python Developer at Arts Alliance Media\n",
      "Company: Turner & Townsend\n",
      "College: Newcastle University\n",
      "Location: London, United Kingdom\n",
      "URL: https://uk.linkedin.com/in/robyoung101\n",
      "informations written to file\n",
      "\n",
      "\n",
      "Name: Mark Brady\n",
      "Job Title: Senior Python Developer at Prop Trading\n",
      "Company: Prop Trading\n",
      "College: University of Bath\n",
      "Location: London, Greater London, United Kingdom\n",
      "URL: https://uk.linkedin.com/in/mark-brady-3473a396\n",
      "informations written to file\n",
      "\n",
      "\n",
      "Name: Glen Lavery\n",
      "Job Title: Python/Django Developer at Transform\n",
      "Company: Transform\n",
      "College: University of Westminster\n",
      "Location: London, United Kingdom\n",
      "URL: https://uk.linkedin.com/in/glenlavery\n",
      "informations written to file\n"
     ]
    }
   ],
   "source": [
    "scrap_linkedin_profile(linkedin_urls, verbose=True)"
   ]
  },
  {
   "cell_type": "code",
   "execution_count": 49,
   "metadata": {},
   "outputs": [],
   "source": [
    "driver.quit()"
   ]
  },
  {
   "cell_type": "markdown",
   "metadata": {},
   "source": [
    "# Get GSoC names"
   ]
  },
  {
   "cell_type": "code",
   "execution_count": 78,
   "metadata": {
    "scrolled": false
   },
   "outputs": [],
   "source": [
    "with open('GSoC_2019_names.csv', newline='', encoding='utf-8') as f:\n",
    "    reader = csv.reader(f)\n",
    "    names = next(reader)"
   ]
  },
  {
   "cell_type": "code",
   "execution_count": 79,
   "metadata": {},
   "outputs": [
    {
     "data": {
      "text/plain": [
       "1274"
      ]
     },
     "execution_count": 79,
     "metadata": {},
     "output_type": "execute_result"
    }
   ],
   "source": [
    "len(names)"
   ]
  },
  {
   "cell_type": "code",
   "execution_count": null,
   "metadata": {},
   "outputs": [],
   "source": []
  },
  {
   "cell_type": "markdown",
   "metadata": {},
   "source": [
    "# Scrap GSoC student LinkedIn"
   ]
  },
  {
   "cell_type": "code",
   "execution_count": 104,
   "metadata": {},
   "outputs": [],
   "source": [
    "def linkedin_name_scrapper(names, verbose=False, nb_linkedin_request_per_driver_session=5):\n",
    "    with open(param_file_name, 'w', newline='', encoding='utf8') as writeFile:\n",
    "        writer = csv.writer(writeFile)\n",
    "        writer.writerow(param_titles)\n",
    "    n = len(names)\n",
    "    driver = webdriver.Chrome('./chromedriver')\n",
    "    linkedin_login(driver)\n",
    "    for i in range(max(1, n // nb_linkedin_request_per_driver_session)):\n",
    "#         driver = webdriver.Chrome('./chromedriver')\n",
    "        sleep(3)\n",
    "        linkedin_urls = []\n",
    "        for j in range(nb_linkedin_request_per_driver_session):\n",
    "            \n",
    "            current = i*nb_linkedin_request_per_driver_session + j\n",
    "            if current < n:\n",
    "                name = names[current]\n",
    "            else: break\n",
    "            search_query = f'site:linkedin.com/in/ AND {name} AND Computer Science Student'\n",
    "            linkedin_urls.append(search_google_linkedin(driver, search_query))\n",
    "        scrap_linkedin_profile(driver, linkedin_urls, verbose=verbose)\n",
    "#         driver.quit()\n",
    "        "
   ]
  },
  {
   "cell_type": "code",
   "execution_count": 105,
   "metadata": {
    "scrolled": false
   },
   "outputs": [
    {
     "name": "stdout",
     "output_type": "stream",
     "text": [
      "annoyed is: None\n"
     ]
    },
    {
     "ename": "IndexError",
     "evalue": "list index out of range",
     "output_type": "error",
     "traceback": [
      "\u001b[0;31m---------------------------------------------------------------------------\u001b[0m",
      "\u001b[0;31mIndexError\u001b[0m                                Traceback (most recent call last)",
      "\u001b[0;32m<ipython-input-105-74e7ef3d105c>\u001b[0m in \u001b[0;36m<module>\u001b[0;34m\u001b[0m\n\u001b[0;32m----> 1\u001b[0;31m \u001b[0mlinkedin_name_scrapper\u001b[0m\u001b[0;34m(\u001b[0m\u001b[0mnames\u001b[0m\u001b[0;34m,\u001b[0m \u001b[0mverbose\u001b[0m\u001b[0;34m=\u001b[0m\u001b[0;32mFalse\u001b[0m\u001b[0;34m)\u001b[0m\u001b[0;34m\u001b[0m\u001b[0;34m\u001b[0m\u001b[0m\n\u001b[0m",
      "\u001b[0;32m<ipython-input-104-4ed6e5505887>\u001b[0m in \u001b[0;36mlinkedin_name_scrapper\u001b[0;34m(names, verbose, nb_linkedin_request_per_driver_session)\u001b[0m\n\u001b[1;32m     18\u001b[0m             \u001b[0msearch_query\u001b[0m \u001b[0;34m=\u001b[0m \u001b[0;34mf'site:linkedin.com/in/ AND {name} AND Computer Science Student'\u001b[0m\u001b[0;34m\u001b[0m\u001b[0;34m\u001b[0m\u001b[0m\n\u001b[1;32m     19\u001b[0m             \u001b[0mlinkedin_urls\u001b[0m\u001b[0;34m.\u001b[0m\u001b[0mappend\u001b[0m\u001b[0;34m(\u001b[0m\u001b[0msearch_google_linkedin\u001b[0m\u001b[0;34m(\u001b[0m\u001b[0mdriver\u001b[0m\u001b[0;34m,\u001b[0m \u001b[0msearch_query\u001b[0m\u001b[0;34m)\u001b[0m\u001b[0;34m)\u001b[0m\u001b[0;34m\u001b[0m\u001b[0;34m\u001b[0m\u001b[0m\n\u001b[0;32m---> 20\u001b[0;31m         \u001b[0mscrap_linkedin_profile\u001b[0m\u001b[0;34m(\u001b[0m\u001b[0mdriver\u001b[0m\u001b[0;34m,\u001b[0m \u001b[0mlinkedin_urls\u001b[0m\u001b[0;34m,\u001b[0m \u001b[0mverbose\u001b[0m\u001b[0;34m=\u001b[0m\u001b[0mverbose\u001b[0m\u001b[0;34m)\u001b[0m\u001b[0;34m\u001b[0m\u001b[0;34m\u001b[0m\u001b[0m\n\u001b[0m\u001b[1;32m     21\u001b[0m \u001b[0;31m#         driver.quit()\u001b[0m\u001b[0;34m\u001b[0m\u001b[0;34m\u001b[0m\u001b[0;34m\u001b[0m\u001b[0m\n\u001b[1;32m     22\u001b[0m \u001b[0;34m\u001b[0m\u001b[0m\n",
      "\u001b[0;32m<ipython-input-90-26e5cdb90bb6>\u001b[0m in \u001b[0;36mscrap_linkedin_profile\u001b[0;34m(driver, linkedin_urls, verbose)\u001b[0m\n\u001b[1;32m     27\u001b[0m             \u001b[0mjob_title\u001b[0m \u001b[0;34m=\u001b[0m \u001b[0mget_linkedin_info\u001b[0m\u001b[0;34m(\u001b[0m\u001b[0msel\u001b[0m\u001b[0;34m,\u001b[0m \u001b[0;34m'//*[starts-with(@class, \"topcard__headline\")]/text()'\u001b[0m\u001b[0;34m)\u001b[0m\u001b[0;34m\u001b[0m\u001b[0;34m\u001b[0m\u001b[0m\n\u001b[1;32m     28\u001b[0m             \u001b[0;31m# xpath to extract the text from the class containing the company\u001b[0m\u001b[0;34m\u001b[0m\u001b[0;34m\u001b[0m\u001b[0;34m\u001b[0m\u001b[0m\n\u001b[0;32m---> 29\u001b[0;31m             \u001b[0mcompany\u001b[0m \u001b[0;34m=\u001b[0m \u001b[0mget_linkedin_info\u001b[0m\u001b[0;34m(\u001b[0m\u001b[0msel\u001b[0m\u001b[0;34m,\u001b[0m \u001b[0;34m'//*[starts-with(@class, \"topcard-links__description\")]/text()'\u001b[0m\u001b[0;34m,\u001b[0m \u001b[0mis_company\u001b[0m\u001b[0;34m=\u001b[0m\u001b[0;32mTrue\u001b[0m\u001b[0;34m)\u001b[0m\u001b[0;34m\u001b[0m\u001b[0;34m\u001b[0m\u001b[0m\n\u001b[0m\u001b[1;32m     30\u001b[0m             \u001b[0;31m# xpath to extract the text from the class containing the college\u001b[0m\u001b[0;34m\u001b[0m\u001b[0;34m\u001b[0m\u001b[0;34m\u001b[0m\u001b[0m\n\u001b[1;32m     31\u001b[0m             \u001b[0mcollege\u001b[0m \u001b[0;34m=\u001b[0m \u001b[0mget_linkedin_info\u001b[0m\u001b[0;34m(\u001b[0m\u001b[0msel\u001b[0m\u001b[0;34m,\u001b[0m \u001b[0;34m'//*[starts-with(@data-tracking-control-name, \"public_profile_topcard_school\")]/span/text()'\u001b[0m\u001b[0;34m,\u001b[0m \u001b[0mis_college\u001b[0m\u001b[0;34m=\u001b[0m\u001b[0;32mTrue\u001b[0m\u001b[0;34m)\u001b[0m\u001b[0;34m\u001b[0m\u001b[0;34m\u001b[0m\u001b[0m\n",
      "\u001b[0;32m<ipython-input-9-1c24e84aa7b4>\u001b[0m in \u001b[0;36mget_linkedin_info\u001b[0;34m(sel, path, is_company, is_college)\u001b[0m\n\u001b[1;32m      1\u001b[0m \u001b[0;32mdef\u001b[0m \u001b[0mget_linkedin_info\u001b[0m\u001b[0;34m(\u001b[0m\u001b[0msel\u001b[0m\u001b[0;34m,\u001b[0m \u001b[0mpath\u001b[0m\u001b[0;34m,\u001b[0m \u001b[0mis_company\u001b[0m\u001b[0;34m=\u001b[0m\u001b[0;32mFalse\u001b[0m\u001b[0;34m,\u001b[0m \u001b[0mis_college\u001b[0m\u001b[0;34m=\u001b[0m\u001b[0;32mFalse\u001b[0m\u001b[0;34m)\u001b[0m\u001b[0;34m:\u001b[0m\u001b[0;34m\u001b[0m\u001b[0;34m\u001b[0m\u001b[0m\n\u001b[0;32m----> 2\u001b[0;31m     \u001b[0;32mif\u001b[0m \u001b[0mis_company\u001b[0m\u001b[0;34m:\u001b[0m \u001b[0minfo\u001b[0m \u001b[0;34m=\u001b[0m \u001b[0msel\u001b[0m\u001b[0;34m.\u001b[0m\u001b[0mxpath\u001b[0m\u001b[0;34m(\u001b[0m\u001b[0mpath\u001b[0m\u001b[0;34m)\u001b[0m\u001b[0;34m[\u001b[0m\u001b[0;36m0\u001b[0m\u001b[0;34m]\u001b[0m\u001b[0;34m.\u001b[0m\u001b[0mget\u001b[0m\u001b[0;34m(\u001b[0m\u001b[0;34m)\u001b[0m\u001b[0;34m\u001b[0m\u001b[0;34m\u001b[0m\u001b[0m\n\u001b[0m\u001b[1;32m      3\u001b[0m     \u001b[0;32mif\u001b[0m \u001b[0mis_college\u001b[0m\u001b[0;34m:\u001b[0m\u001b[0;34m\u001b[0m\u001b[0;34m\u001b[0m\u001b[0m\n\u001b[1;32m      4\u001b[0m         \u001b[0minfo\u001b[0m \u001b[0;34m=\u001b[0m \u001b[0msel\u001b[0m\u001b[0;34m.\u001b[0m\u001b[0mxpath\u001b[0m\u001b[0;34m(\u001b[0m\u001b[0mpath\u001b[0m\u001b[0;34m)\u001b[0m\u001b[0;34m.\u001b[0m\u001b[0mget\u001b[0m\u001b[0;34m(\u001b[0m\u001b[0;34m)\u001b[0m\u001b[0;34m\u001b[0m\u001b[0;34m\u001b[0m\u001b[0m\n\u001b[1;32m      5\u001b[0m         \u001b[0;32mif\u001b[0m \u001b[0minfo\u001b[0m \u001b[0;34m==\u001b[0m \u001b[0;32mNone\u001b[0m\u001b[0;34m:\u001b[0m\u001b[0;34m\u001b[0m\u001b[0;34m\u001b[0m\u001b[0m\n",
      "\u001b[0;32m/anaconda3/lib/python3.7/site-packages/parsel/selector.py\u001b[0m in \u001b[0;36m__getitem__\u001b[0;34m(self, pos)\u001b[0m\n\u001b[1;32m     59\u001b[0m \u001b[0;34m\u001b[0m\u001b[0m\n\u001b[1;32m     60\u001b[0m     \u001b[0;32mdef\u001b[0m \u001b[0m__getitem__\u001b[0m\u001b[0;34m(\u001b[0m\u001b[0mself\u001b[0m\u001b[0;34m,\u001b[0m \u001b[0mpos\u001b[0m\u001b[0;34m)\u001b[0m\u001b[0;34m:\u001b[0m\u001b[0;34m\u001b[0m\u001b[0;34m\u001b[0m\u001b[0m\n\u001b[0;32m---> 61\u001b[0;31m         \u001b[0mo\u001b[0m \u001b[0;34m=\u001b[0m \u001b[0msuper\u001b[0m\u001b[0;34m(\u001b[0m\u001b[0mSelectorList\u001b[0m\u001b[0;34m,\u001b[0m \u001b[0mself\u001b[0m\u001b[0;34m)\u001b[0m\u001b[0;34m.\u001b[0m\u001b[0m__getitem__\u001b[0m\u001b[0;34m(\u001b[0m\u001b[0mpos\u001b[0m\u001b[0;34m)\u001b[0m\u001b[0;34m\u001b[0m\u001b[0;34m\u001b[0m\u001b[0m\n\u001b[0m\u001b[1;32m     62\u001b[0m         \u001b[0;32mreturn\u001b[0m \u001b[0mself\u001b[0m\u001b[0;34m.\u001b[0m\u001b[0m__class__\u001b[0m\u001b[0;34m(\u001b[0m\u001b[0mo\u001b[0m\u001b[0;34m)\u001b[0m \u001b[0;32mif\u001b[0m \u001b[0misinstance\u001b[0m\u001b[0;34m(\u001b[0m\u001b[0mpos\u001b[0m\u001b[0;34m,\u001b[0m \u001b[0mslice\u001b[0m\u001b[0;34m)\u001b[0m \u001b[0;32melse\u001b[0m \u001b[0mo\u001b[0m\u001b[0;34m\u001b[0m\u001b[0;34m\u001b[0m\u001b[0m\n\u001b[1;32m     63\u001b[0m \u001b[0;34m\u001b[0m\u001b[0m\n",
      "\u001b[0;31mIndexError\u001b[0m: list index out of range"
     ]
    }
   ],
   "source": [
    "linkedin_name_scrapper(names, verbose=False)"
   ]
  },
  {
   "cell_type": "code",
   "execution_count": null,
   "metadata": {},
   "outputs": [],
   "source": []
  },
  {
   "cell_type": "code",
   "execution_count": null,
   "metadata": {},
   "outputs": [],
   "source": []
  },
  {
   "cell_type": "markdown",
   "metadata": {},
   "source": [
    "# Send connection request"
   ]
  },
  {
   "cell_type": "code",
   "execution_count": null,
   "metadata": {},
   "outputs": [],
   "source": []
  }
 ],
 "metadata": {
  "kernelspec": {
   "display_name": "Python 3",
   "language": "python",
   "name": "python3"
  },
  "language_info": {
   "codemirror_mode": {
    "name": "ipython",
    "version": 3
   },
   "file_extension": ".py",
   "mimetype": "text/x-python",
   "name": "python",
   "nbconvert_exporter": "python",
   "pygments_lexer": "ipython3",
   "version": "3.7.3"
  },
  "toc": {
   "base_numbering": 1,
   "nav_menu": {},
   "number_sections": true,
   "sideBar": true,
   "skip_h1_title": false,
   "title_cell": "Table of Contents",
   "title_sidebar": "Contents",
   "toc_cell": false,
   "toc_position": {},
   "toc_section_display": true,
   "toc_window_display": true
  }
 },
 "nbformat": 4,
 "nbformat_minor": 2
}
