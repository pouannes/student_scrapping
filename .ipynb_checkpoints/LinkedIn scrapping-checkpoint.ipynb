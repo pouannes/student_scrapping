{
 "cells": [
  {
   "cell_type": "code",
   "execution_count": 7,
   "metadata": {},
   "outputs": [],
   "source": [
    "from selenium import webdriver\n",
    "from selenium.webdriver.common.keys import Keys\n",
    "from time import sleep\n",
    "from parsel import Selector\n",
    "import csv"
   ]
  },
  {
   "cell_type": "code",
   "execution_count": 8,
   "metadata": {},
   "outputs": [],
   "source": [
    "# search query \n",
    "param_search_query = 'site:linkedin.com/in/ AND \"python developer\" AND \"London\"'\n",
    "\n",
    "param_titles = [\"Name\",\"Job Title\",\"Company\",\"College\", \"Location\",\"URL\"]\n",
    "\n",
    "# file were scraped profile information will be stored  \n",
    "param_file_name = 'results_file.csv'\n",
    "\n",
    "# login credentials\n",
    "param_linkedin_username = 'email@gmail.com'\n",
    "param_linkedin_password = 'xxxxxx'"
   ]
  },
  {
   "cell_type": "code",
   "execution_count": 9,
   "metadata": {},
   "outputs": [],
   "source": [
    "# function to ensure all key data fields have a value\n",
    "def validate_field(field):# if field is present pass\n",
    "    if field: return field\n",
    "# if field is not present print text \n",
    "    else:\n",
    "        field = 'No results'\n",
    "        return field"
   ]
  },
  {
   "cell_type": "code",
   "execution_count": 17,
   "metadata": {},
   "outputs": [],
   "source": [
    "with open(param_file_name, 'a', newline='', encoding='utf8') as writeFile:\n",
    "    writer = csv.writer(writeFile)\n",
    "    writer.writerow(param_titles)"
   ]
  },
  {
   "cell_type": "markdown",
   "metadata": {},
   "source": [
    "https://sites.google.com/a/chromium.org/chromedriver/home"
   ]
  },
  {
   "cell_type": "code",
   "execution_count": 43,
   "metadata": {},
   "outputs": [],
   "source": [
    "driver = webdriver.Chrome('./chromedriver')"
   ]
  },
  {
   "cell_type": "code",
   "execution_count": 44,
   "metadata": {},
   "outputs": [],
   "source": [
    "driver.get('https://google.com')\n",
    "sleep(3)"
   ]
  },
  {
   "cell_type": "code",
   "execution_count": 13,
   "metadata": {},
   "outputs": [],
   "source": [
    "def search_google_linkedin(query):\n",
    "    search_query = driver.find_element_by_name('q')\n",
    "    search_query.send_keys(query)\n",
    "    sleep(0.5)\n",
    "\n",
    "    search_query.send_keys(Keys.RETURN)\n",
    "    sleep(3)\n",
    "\n",
    "    linkedin_urls = driver.find_elements_by_class_name('iUh30')\n",
    "\n",
    "    linkedin_urls = [url.text for url in linkedin_urls]\n",
    "    sleep(0.5)\n",
    "    return linkedin_urls"
   ]
  },
  {
   "cell_type": "code",
   "execution_count": 20,
   "metadata": {},
   "outputs": [],
   "source": [
    "linkedin_urls = search_google_linkedin(param_search_query)"
   ]
  },
  {
   "cell_type": "code",
   "execution_count": 45,
   "metadata": {},
   "outputs": [
    {
     "data": {
      "text/plain": [
       "['https://uk.linkedin.com/in/pauljgarner',\n",
       " 'https://uk.linkedin.com/in/szczesiaklukasz',\n",
       " 'https://uk.linkedin.com/in/scott-white-6a377a5a',\n",
       " 'https://uk.linkedin.com/in/eastwoodalex',\n",
       " 'https://uk.linkedin.com/in/christargett',\n",
       " 'https://uk.linkedin.com/in/chris-davie-a3754b7a',\n",
       " 'https://uk.linkedin.com/in/bartoszdziendzik',\n",
       " 'https://uk.linkedin.com/in/robyoung101',\n",
       " 'https://uk.linkedin.com/in/mark-brady-3473a396',\n",
       " 'https://uk.linkedin.com/in/glenlavery']"
      ]
     },
     "execution_count": 45,
     "metadata": {},
     "output_type": "execute_result"
    }
   ],
   "source": [
    "linkedin_urls"
   ]
  },
  {
   "cell_type": "code",
   "execution_count": 46,
   "metadata": {},
   "outputs": [],
   "source": [
    "def get_linkedin_info(sel, path, is_company = False, is_college = False):\n",
    "    if is_company: info = sel.xpath(path)[0].get()\n",
    "    if is_college:\n",
    "        info = sel.xpath(path).get()\n",
    "        if info == None:\n",
    "            links = sel.xpath('//*[starts-with(@class, \"topcard-links__description\")]/text()')\n",
    "            for link in links:\n",
    "                card_name = link.get()\n",
    "                if (\"University\" in card_name) or (\"university\" in card_name) or \\\n",
    "                (\"college\" in card_name) or (\"College\" in card_name):\n",
    "                    info = card_name\n",
    "    else: info = sel.xpath(path).get()\n",
    "    if info:\n",
    "        info = info.strip()\n",
    "    return info"
   ]
  },
  {
   "cell_type": "code",
   "execution_count": 47,
   "metadata": {
    "code_folding": [],
    "scrolled": false
   },
   "outputs": [],
   "source": [
    "def scrap_linkedin_profile(linkedin_urls, verbose=True):\n",
    "    with open(param_file_name, 'a', newline='', encoding='utf8') as writeFile:\n",
    "        writer = csv.writer(writeFile)\n",
    "        for linkedin_url in linkedin_urls:\n",
    "            # get the profile URL \n",
    "            driver.get(linkedin_url)\n",
    "            # add a 5 second pause loading each URL\n",
    "            sleep(5)\n",
    "            # assigning the source code for the webpage to variable sel\n",
    "            sel = Selector(text=driver.page_source) \n",
    "\n",
    "            # xpath to extract the text from the class containing the name                \n",
    "            name = get_linkedin_info(sel, '//*[starts-with(@class, \"topcard__name\")]/text()')\n",
    "            # xpath to extract the text from the class containing the job title\n",
    "            job_title = get_linkedin_info(sel, '//*[starts-with(@class, \"topcard__headline\")]/text()')\n",
    "            # xpath to extract the text from the class containing the company\n",
    "            company = get_linkedin_info(sel, '//*[starts-with(@class, \"topcard-links__description\")]/text()', is_company=True)\n",
    "            # xpath to extract the text from the class containing the college\n",
    "            college = get_linkedin_info(sel, '//*[starts-with(@data-tracking-control-name, \"public_profile_topcard_school\")]/span/text()', is_college=True)\n",
    "            # xpath to extract the text from the class containing the location\n",
    "            location = get_linkedin_info(sel, '//*[starts-with(@class, \"topcard__location\")]/text()')            \n",
    "            linkedin_url = driver.current_url\n",
    "\n",
    "            name = validate_field(name)\n",
    "            job_title = validate_field(job_title)\n",
    "            company = validate_field(company)\n",
    "            college = validate_field(college)\n",
    "            location = validate_field(location)\n",
    "            linkedin_url = validate_field(linkedin_url)\n",
    "            \n",
    "            if verbose:\n",
    "                print('\\n')\n",
    "                print('Name: ' + name)\n",
    "                print('Job Title: ' + job_title)\n",
    "                print('Company: ' + company)\n",
    "                print('College: ' + college)\n",
    "                print('Location: ' + location)\n",
    "                print('URL: ' + linkedin_url)\n",
    "\n",
    "            writer.writerow([name,\n",
    "                         job_title,\n",
    "                         company,\n",
    "                         college,\n",
    "                         location,\n",
    "                         linkedin_url])\n",
    "\n",
    "            if verbose: print(\"informations written to file\")"
   ]
  },
  {
   "cell_type": "code",
   "execution_count": 48,
   "metadata": {},
   "outputs": [
    {
     "name": "stdout",
     "output_type": "stream",
     "text": [
      "\n",
      "\n",
      "Name: Paul Garner\n",
      "Job Title: Freelance Python Developer at Depop\n",
      "Company: Depop\n",
      "College: No results\n",
      "Location: London, United Kingdom\n",
      "URL: https://uk.linkedin.com/in/pauljgarner\n",
      "informations written to file\n",
      "\n",
      "\n",
      "Name: Lukasz Szczesiak\n",
      "Job Title: Software Engineer / Stand-Up Comedian\n",
      "Company: Macquarie Group\n",
      "College: The University of Glasgow\n",
      "Location: London, Greater London, United Kingdom\n",
      "URL: https://uk.linkedin.com/in/szczesiaklukasz\n",
      "informations written to file\n",
      "\n",
      "\n",
      "Name: Scott White\n",
      "Job Title: Python Developer / Django Developer at Rocksteady Games\n",
      "Company: Rocksteady Games\n",
      "College: University of Sussex\n",
      "Location: London, Greater London, United Kingdom\n",
      "URL: https://uk.linkedin.com/in/scott-white-6a377a5a\n",
      "informations written to file\n",
      "\n",
      "\n",
      "Name: Alex Eastwood\n",
      "Job Title: Python Developer at Firmstep\n",
      "Company: Firmstep\n",
      "College: UCL\n",
      "Location: London, United Kingdom\n",
      "URL: https://uk.linkedin.com/in/eastwoodalex\n",
      "informations written to file\n",
      "\n",
      "\n",
      "Name: Chris Targett\n",
      "Job Title: Python Developer\n",
      "Company: Killik & Co\n",
      "College: No results\n",
      "Location: London, United Kingdom\n",
      "URL: https://uk.linkedin.com/in/christargett\n",
      "informations written to file\n",
      "\n",
      "\n",
      "Name: Chris Davie\n",
      "Job Title: Python Developer, PhD Computational Physics\n",
      "Company: Unmortgage\n",
      "College: Imperial College London\n",
      "Location: London, United Kingdom\n",
      "URL: https://uk.linkedin.com/in/chris-davie-a3754b7a\n",
      "informations written to file\n",
      "\n",
      "\n",
      "Name: Bartosz Dziendzik\n",
      "Job Title: Python developer\n",
      "Company: iwoca\n",
      "College: Wyższa Szkoła Bankowa w Gdańsku\n",
      "Location: London, United Kingdom\n",
      "URL: https://uk.linkedin.com/in/bartoszdziendzik\n",
      "informations written to file\n",
      "\n",
      "\n",
      "Name: Rob Young\n",
      "Job Title: Senior Python Developer at Arts Alliance Media\n",
      "Company: Turner & Townsend\n",
      "College: Newcastle University\n",
      "Location: London, United Kingdom\n",
      "URL: https://uk.linkedin.com/in/robyoung101\n",
      "informations written to file\n",
      "\n",
      "\n",
      "Name: Mark Brady\n",
      "Job Title: Senior Python Developer at Prop Trading\n",
      "Company: Prop Trading\n",
      "College: University of Bath\n",
      "Location: London, Greater London, United Kingdom\n",
      "URL: https://uk.linkedin.com/in/mark-brady-3473a396\n",
      "informations written to file\n",
      "\n",
      "\n",
      "Name: Glen Lavery\n",
      "Job Title: Python/Django Developer at Transform\n",
      "Company: Transform\n",
      "College: University of Westminster\n",
      "Location: London, United Kingdom\n",
      "URL: https://uk.linkedin.com/in/glenlavery\n",
      "informations written to file\n"
     ]
    }
   ],
   "source": [
    "scrap_linkedin_profile(linkedin_urls, verbose=True)"
   ]
  },
  {
   "cell_type": "code",
   "execution_count": 42,
   "metadata": {},
   "outputs": [],
   "source": [
    "driver.quit()"
   ]
  },
  {
   "cell_type": "code",
   "execution_count": null,
   "metadata": {},
   "outputs": [],
   "source": []
  }
 ],
 "metadata": {
  "kernelspec": {
   "display_name": "Python 3",
   "language": "python",
   "name": "python3"
  },
  "language_info": {
   "codemirror_mode": {
    "name": "ipython",
    "version": 3
   },
   "file_extension": ".py",
   "mimetype": "text/x-python",
   "name": "python",
   "nbconvert_exporter": "python",
   "pygments_lexer": "ipython3",
   "version": "3.7.3"
  },
  "toc": {
   "base_numbering": 1,
   "nav_menu": {},
   "number_sections": true,
   "sideBar": true,
   "skip_h1_title": false,
   "title_cell": "Table of Contents",
   "title_sidebar": "Contents",
   "toc_cell": false,
   "toc_position": {},
   "toc_section_display": true,
   "toc_window_display": false
  }
 },
 "nbformat": 4,
 "nbformat_minor": 2
}
